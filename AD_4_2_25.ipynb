{
  "nbformat": 4,
  "nbformat_minor": 0,
  "metadata": {
    "colab": {
      "provenance": []
    },
    "kernelspec": {
      "name": "python3",
      "display_name": "Python 3"
    },
    "language_info": {
      "name": "python"
    }
  },
  "cells": [
    {
      "cell_type": "code",
      "execution_count": 5,
      "metadata": {
        "colab": {
          "base_uri": "https://localhost:8080/"
        },
        "id": "i6ZBCy54cuF8",
        "outputId": "ae6213d7-4dc0-4a95-ee0f-0dfb67db9d79"
      },
      "outputs": [
        {
          "output_type": "stream",
          "name": "stdout",
          "text": [
            "Collecting emot\n",
            "  Downloading emot-3.1-py3-none-any.whl.metadata (396 bytes)\n",
            "Downloading emot-3.1-py3-none-any.whl (61 kB)\n",
            "\u001b[?25l   \u001b[90m━━━━━━━━━━━━━━━━━━━━━━━━━━━━━━━━━━━━━━━━\u001b[0m \u001b[32m0.0/61.5 kB\u001b[0m \u001b[31m?\u001b[0m eta \u001b[36m-:--:--\u001b[0m\r\u001b[2K   \u001b[90m━━━━━━━━━━━━━━━━━━━━━━━━━━━━━━━━━━━━━━━━\u001b[0m \u001b[32m61.5/61.5 kB\u001b[0m \u001b[31m4.5 MB/s\u001b[0m eta \u001b[36m0:00:00\u001b[0m\n",
            "\u001b[?25hInstalling collected packages: emot\n",
            "Successfully installed emot-3.1\n"
          ]
        }
      ],
      "source": [
        "#installing emot Library\n",
        "!pip install emot"
      ]
    },
    {
      "cell_type": "code",
      "source": [
        "#create sample text data with emoji\n",
        "text1 = \"What are you saying😂, I am the boss😎, and why are you so 😞\""
      ],
      "metadata": {
        "id": "QSwE6P2ydGkR"
      },
      "execution_count": 2,
      "outputs": []
    },
    {
      "cell_type": "code",
      "source": [
        "import re\n",
        "from emot.emo_unicode import UNICODE_EMOJI\n",
        "from emot.emo_unicode import EMOTICONS_EMO"
      ],
      "metadata": {
        "id": "gT-qJTWWdw26"
      },
      "execution_count": 6,
      "outputs": []
    },
    {
      "cell_type": "code",
      "source": [
        "def coverting_emojis(text):\n",
        "  for emot in UNICODE_EMOJI:\n",
        "    text = text.replace(emot,\"_\".join(UNICODE_EMOJI[emot].replace(\",\",\"\")\\\n",
        "                                      .replace(\":\",\"\").split()))\n",
        "    return text\n",
        "    converting_emojis(text1)"
      ],
      "metadata": {
        "id": "vurRH6UqeKEg"
      },
      "execution_count": 7,
      "outputs": []
    },
    {
      "cell_type": "code",
      "source": [
        "import re\n",
        "\n",
        "def emoji_removal(string):\n",
        "   emoji_unicodes = re.compile(\"[\"\n",
        "u\"\\U0001F600-\\U0001F64F\"\n",
        "u\"\\U0001F300-\\U0001F5FF\"\n",
        "u\"\\U0001F680-\\U0001F6FF\"\n",
        "u\"\\U0001F1E0-\\U0001F1FF\"\n",
        "u\"\\U00002500-\\U00002BEF\"\n",
        "u\"\\U00002702-\\U000027B0\"\n",
        "u\"\\U000024C2-\\U0001F251\"\n",
        "u\"\\U0001f926-\\U0001f937\"\n",
        "u\"\\U00010000-\\U0010ffff\"\n",
        "u\"\\u2640-\\u2642\"\n",
        "u\"\\u2600-\\u2B55\"\n",
        "u\"\\u200d\"\n",
        "u\"\\u23cf\"\n",
        "u\"\\u23e9\"\n",
        "u\"\\u231a\"\n",
        "u\"\\ufe0f\"\n",
        "u\"\\u3030\"\n",
        "\"]+\", flags=re.UNICODE)\n",
        "   return emoji_unicodes.sub(r'', string)\n",
        "\n",
        "text1 = \"What are you saying😂, I am the boss😎, and why are you so 😞\"\n",
        "emoji_removal(text1)"
      ],
      "metadata": {
        "colab": {
          "base_uri": "https://localhost:8080/",
          "height": 35
        },
        "id": "eLu8BKoUf6A9",
        "outputId": "ff33e78b-51dc-476f-cf14-642c53a40f49"
      },
      "execution_count": 8,
      "outputs": [
        {
          "output_type": "execute_result",
          "data": {
            "text/plain": [
              "'What are you saying, I am the boss, and why are you so '"
            ],
            "application/vnd.google.colaboratory.intrinsic+json": {
              "type": "string"
            }
          },
          "metadata": {},
          "execution_count": 8
        }
      ]
    },
    {
      "cell_type": "code",
      "source": [
        "import re\n",
        "\n",
        "def emoji_removal(string):\n",
        "    emoji_unicodes = re.compile(\"[\"\n",
        "    u\"\\U0001F600-\\U0001F64F\"\n",
        "    u\"\\U0001F300-\\U0001F5FF\"\n",
        "    u\"\\U0001F680-\\U0001F6FF\"\n",
        "    u\"\\U0001F1E0-\\U0001F1FF\"\n",
        "    u\"\\U00002500-\\U00002BEF\"\n",
        "    u\"\\U00002702-\\U000027B0\"\n",
        "    u\"\\U000024C2-\\U0001F251\"\n",
        "    u\"\\U0001f926-\\U0001f937\"\n",
        "    u\"\\U00010000-\\U0010ffff\"\n",
        "    u\"\\u2640-\\u2642\"\n",
        "    u\"\\u2600-\\u2B55\"\n",
        "    u\"\\u200d\"\n",
        "    u\"\\u23cf\"\n",
        "    u\"\\u23e9\"\n",
        "    u\"\\u231a\"\n",
        "    u\"\\ufe0f\"\n",
        "    u\"\\u3030\"\n",
        "    \"]+\", flags=re.UNICODE)\n",
        "    return emoji_unicodes.sub(r'', string)\n",
        "\n",
        "text1 = \"What are you saying😂, I am the boss😎, and why are you so 😞\"\n",
        "emoji_removal(text1)"
      ],
      "metadata": {
        "colab": {
          "base_uri": "https://localhost:8080/",
          "height": 35
        },
        "id": "-eeaPmfVge-d",
        "outputId": "80c78a02-19c6-4bd8-db75-45b369fd4b2d"
      },
      "execution_count": 9,
      "outputs": [
        {
          "output_type": "execute_result",
          "data": {
            "text/plain": [
              "'What are you saying, I am the boss, and why are you so '"
            ],
            "application/vnd.google.colaboratory.intrinsic+json": {
              "type": "string"
            }
          },
          "metadata": {},
          "execution_count": 9
        }
      ]
    }
  ]
}