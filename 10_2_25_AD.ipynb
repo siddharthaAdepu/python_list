{
  "nbformat": 4,
  "nbformat_minor": 0,
  "metadata": {
    "colab": {
      "provenance": []
    },
    "kernelspec": {
      "name": "python3",
      "display_name": "Python 3"
    },
    "language_info": {
      "name": "python"
    }
  },
  "cells": [
    {
      "cell_type": "code",
      "source": [
        "!pip install PyPDF2"
      ],
      "metadata": {
        "colab": {
          "base_uri": "https://localhost:8080/"
        },
        "id": "Om2HztS2S5lB",
        "outputId": "7d859755-955a-48b6-ac3b-0cbf5999a66a"
      },
      "execution_count": 6,
      "outputs": [
        {
          "output_type": "stream",
          "name": "stdout",
          "text": [
            "Collecting PyPDF2\n",
            "  Downloading pypdf2-3.0.1-py3-none-any.whl.metadata (6.8 kB)\n",
            "Downloading pypdf2-3.0.1-py3-none-any.whl (232 kB)\n",
            "\u001b[?25l   \u001b[90m━━━━━━━━━━━━━━━━━━━━━━━━━━━━━━━━━━━━━━━━\u001b[0m \u001b[32m0.0/232.6 kB\u001b[0m \u001b[31m?\u001b[0m eta \u001b[36m-:--:--\u001b[0m\r\u001b[2K   \u001b[91m━━━━━━━━━━━━━━\u001b[0m\u001b[90m╺\u001b[0m\u001b[90m━━━━━━━━━━━━━━━━━━━━━━━━━\u001b[0m \u001b[32m81.9/232.6 kB\u001b[0m \u001b[31m2.6 MB/s\u001b[0m eta \u001b[36m0:00:01\u001b[0m\r\u001b[2K   \u001b[90m━━━━━━━━━━━━━━━━━━━━━━━━━━━━━━━━━━━━━━━━\u001b[0m \u001b[32m232.6/232.6 kB\u001b[0m \u001b[31m3.4 MB/s\u001b[0m eta \u001b[36m0:00:00\u001b[0m\n",
            "\u001b[?25hInstalling collected packages: PyPDF2\n",
            "Successfully installed PyPDF2-3.0.1\n"
          ]
        }
      ]
    },
    {
      "cell_type": "code",
      "execution_count": 8,
      "metadata": {
        "id": "l62GubVsRx8P"
      },
      "outputs": [],
      "source": [
        "import PyPDF2\n",
        "from PyPDF2 import PdfFileReader # Case sensitive, PdfFileReader"
      ]
    },
    {
      "cell_type": "code",
      "source": [
        "PyPDF2.__version__"
      ],
      "metadata": {
        "colab": {
          "base_uri": "https://localhost:8080/",
          "height": 35
        },
        "id": "ktzrdoF-SEkp",
        "outputId": "e7a599d0-6c43-40a8-926e-1741f243158f"
      },
      "execution_count": 9,
      "outputs": [
        {
          "output_type": "execute_result",
          "data": {
            "text/plain": [
              "'3.0.1'"
            ],
            "application/vnd.google.colaboratory.intrinsic+json": {
              "type": "string"
            }
          },
          "metadata": {},
          "execution_count": 9
        }
      ]
    },
    {
      "cell_type": "code",
      "source": [
        "#Creating a pdf file object\n",
        "pdf = open(\"/content/file1pdf.pdf\",\"rb\")\n",
        "\n",
        "#creating pdf reader object\n",
        "pdf_reader = PyPDF2.PdfReader(pdf)\n",
        "\n",
        "#checking number of pages in a pdf file\n",
        "print(\"Number of pages:\",len(pdf_reader.pages))\n",
        "\n",
        "#creating a page object\n",
        "page = pdf_reader.pages[1]\n",
        "#finally extracting text from the page\n",
        "print(page.extract_text())\n",
        "\n",
        "#closing the pdf file\n",
        "pdf.close()"
      ],
      "metadata": {
        "colab": {
          "base_uri": "https://localhost:8080/"
        },
        "id": "n9EDoFRGSuam",
        "outputId": "b9183f3b-1065-4b42-ab22-2a82db42967f"
      },
      "execution_count": 12,
      "outputs": [
        {
          "output_type": "stream",
          "name": "stdout",
          "text": [
            "Number of pages: 35\n",
            " \n",
            " \n",
            " Development  Plan for Greater Mumbai 2014‐2034                                                                                                                                                                                                                                                      \n",
            "Acknowledgements  \n",
            "The Consultant  wishes to thank the following  individuals  from the Municipal  Corporation  of \n",
            "Greater Mumbai for their invaluable  support, insights and contributions  towards ‘Working  Paper 1 \n",
            "– Preparation  of Base Map’ for the preparation  of the Development  Plan for Greater Mumbai \n",
            "2014‐34. \n",
            " Mr. Subodh Kumar, IAS, Municipal  Commissioner;  \n",
            " Mr. Rajeev Kuknoor, Chief Engineer Development  Plan; \n",
            " Mr. Sudhir Ghate, Deputy Chief Engineer Development  Plan; \n",
            " Mr. A.G. Marathe, Deputy Chief Engineer Development  Plan; \n",
            " Mr. R. Balachandran,  Executive  Engineer and Town Planning Officer, Development  Plan. \n",
            " Our gratitude  to the following  experts for their invaluable  insights and support: \n",
            " \n",
            "Mr. V.K Phatak, Former Chief Town Planner (MMRDA);  \n",
            " Mr. A.N Kale, Former Chief Engineer, (DP); \n",
            " Mr. A. S Jain Former Dy. Chief Engineer, (DP). \n",
            " We wish to especially  thank MCGM officers, Mr. Jagdish Talreja, Mr. Dinesh Naik, Mr. Hiren \n",
            "Daftardar,  Ms. Anita Naik for their continual  support since the\n",
            " beginning  of the project and their \n",
            "help towards familiarization  and data collection.  They have been instrumental  in helping to \n",
            "contact various MCGM departments  as well as in helping to establish contact with personnel  from \n",
            "other government  departments  and organizations.  Many thanks for the MCGM team, for \n",
            "deploying  personnel,  particularly  Mr. Prasad Gharat, on extensive  field visits that have helped in \n",
            "understanding  actual ground conditions.  \n",
            " \n",
            "We apologize  if we have inadvertently  omitted anyone to whom acknowledgement  is due. We hope \n",
            "and anticipate  the work's usefulness  for the intended purpose. \n",
            " \n"
          ]
        }
      ]
    },
    {
      "cell_type": "code",
      "source": [
        "!pip install PyPDF2"
      ],
      "metadata": {
        "colab": {
          "base_uri": "https://localhost:8080/"
        },
        "id": "IdPgaJtdUb8N",
        "outputId": "19dcdaf5-e478-4307-eaeb-1e114631a007"
      },
      "execution_count": 13,
      "outputs": [
        {
          "output_type": "stream",
          "name": "stdout",
          "text": [
            "Requirement already satisfied: PyPDF2 in /usr/local/lib/python3.11/dist-packages (3.0.1)\n"
          ]
        }
      ]
    },
    {
      "cell_type": "code",
      "source": [
        "import PyPDF2, urllib, nltk\n",
        "from io import BytesIO\n",
        "from nltk.tokenize import word_tokenize\n",
        "from nltk.corpus import stopwords"
      ],
      "metadata": {
        "id": "hTVwghT-UitD"
      },
      "execution_count": 14,
      "outputs": []
    },
    {
      "cell_type": "code",
      "source": [
        "wFile = urllib.request.urlopen('http://www.udri.org/pdf/02%20working%20paper%201.pdf')\n",
        "pdfreader = PyPDF2.PdfReader(BytesIO(wFile.read()))"
      ],
      "metadata": {
        "id": "Wdnfra9-VSJq"
      },
      "execution_count": 19,
      "outputs": []
    },
    {
      "cell_type": "code",
      "source": [
        "import nltk\n",
        "nltk.download('punkt_tab')"
      ],
      "metadata": {
        "colab": {
          "base_uri": "https://localhost:8080/"
        },
        "id": "cJb9tbHkYRMr",
        "outputId": "4955cb67-c0ab-4c1a-985a-317ad8917632"
      },
      "execution_count": 23,
      "outputs": [
        {
          "output_type": "stream",
          "name": "stderr",
          "text": [
            "[nltk_data] Downloading package punkt_tab to /root/nltk_data...\n",
            "[nltk_data]   Package punkt_tab is already up-to-date!\n"
          ]
        },
        {
          "output_type": "execute_result",
          "data": {
            "text/plain": [
              "True"
            ]
          },
          "metadata": {},
          "execution_count": 23
        }
      ]
    },
    {
      "cell_type": "code",
      "source": [
        "import nltk\n",
        "nltk.download('stopwords')"
      ],
      "metadata": {
        "colab": {
          "base_uri": "https://localhost:8080/"
        },
        "id": "z5AgvB_tY2vu",
        "outputId": "6902a574-a4fe-491c-e1fb-15a12de042d8"
      },
      "execution_count": 27,
      "outputs": [
        {
          "output_type": "stream",
          "name": "stderr",
          "text": [
            "[nltk_data] Downloading package stopwords to /root/nltk_data...\n",
            "[nltk_data]   Unzipping corpora/stopwords.zip.\n"
          ]
        },
        {
          "output_type": "execute_result",
          "data": {
            "text/plain": [
              "True"
            ]
          },
          "metadata": {},
          "execution_count": 27
        }
      ]
    },
    {
      "cell_type": "code",
      "source": [
        "pageObj = pdfreader.pages[2]\n",
        "pageObj = pdfreader.pages[2]\n",
        "page2 = pageObj.extract_text()\n",
        "punctuations = [',', ';', '[', ']', ',', '..', '.']\n",
        "tokens = word_tokenize(page2)\n",
        "stop_words = stopwords.words('english')\n",
        "keywords = [word for word in tokens if not word in stop_words and not word in punctuations]\n",
        "keywords = [word for word in tokens if not word in stop_words and\n",
        "not word in punctuations]"
      ],
      "metadata": {
        "id": "ikkE01FWVhX0"
      },
      "execution_count": 28,
      "outputs": []
    },
    {
      "cell_type": "code",
      "source": [
        "keywords"
      ],
      "metadata": {
        "colab": {
          "base_uri": "https://localhost:8080/"
        },
        "id": "GxnQqcrDYLfJ",
        "outputId": "7605838c-212c-4b46-e30c-a7806ffbb561"
      },
      "execution_count": 30,
      "outputs": [
        {
          "output_type": "execute_result",
          "data": {
            "text/plain": [
              "['Development',\n",
              " 'Plan',\n",
              " 'Greater',\n",
              " 'Mumbai',\n",
              " '2014‐2034',\n",
              " 'Table',\n",
              " 'Contents',\n",
              " 'The',\n",
              " 'Consultant',\n",
              " 'wishes',\n",
              " 'thank',\n",
              " 'following',\n",
              " 'individuals',\n",
              " 'Municipal',\n",
              " 'Corporation',\n",
              " 'Greater',\n",
              " 'Mumbai',\n",
              " 'invaluable',\n",
              " 'support',\n",
              " 'insights',\n",
              " 'contributions',\n",
              " 'towards',\n",
              " '‘',\n",
              " 'Working',\n",
              " 'Paper',\n",
              " '1',\n",
              " '–',\n",
              " 'Preparation',\n",
              " 'Base',\n",
              " 'Map',\n",
              " '’',\n",
              " 'preparation',\n",
              " 'Development',\n",
              " 'Plan',\n",
              " 'Greater',\n",
              " 'Mumbai',\n",
              " '2014‐34',\n",
              " '.............................................................................................................................',\n",
              " '..............',\n",
              " '3',\n",
              " 'Our',\n",
              " 'gratitude',\n",
              " 'following',\n",
              " 'experts',\n",
              " 'invaluable',\n",
              " 'insights',\n",
              " 'support',\n",
              " ':',\n",
              " '............................',\n",
              " '3',\n",
              " 'We',\n",
              " 'wish',\n",
              " 'especially',\n",
              " 'thank',\n",
              " 'MCGM',\n",
              " 'officers',\n",
              " 'Mr.',\n",
              " 'Jagdish',\n",
              " 'Talreja',\n",
              " 'Mr.',\n",
              " 'Dinesh',\n",
              " 'Naik',\n",
              " 'Mr.',\n",
              " 'Hiren',\n",
              " 'Daftardar',\n",
              " 'Ms.',\n",
              " 'Anita',\n",
              " 'Naik',\n",
              " 'continual',\n",
              " 'support',\n",
              " 'since',\n",
              " 'beginning',\n",
              " 'project',\n",
              " 'help',\n",
              " 'towards',\n",
              " 'familiarization',\n",
              " 'data',\n",
              " 'collection',\n",
              " 'They',\n",
              " 'instrumental',\n",
              " 'helping',\n",
              " 'contact',\n",
              " 'various',\n",
              " 'MCGM',\n",
              " 'departments',\n",
              " 'well',\n",
              " 'helping',\n",
              " 'establish',\n",
              " 'contact',\n",
              " 'personnel',\n",
              " 'government',\n",
              " 'departments',\n",
              " 'organizations',\n",
              " 'Many',\n",
              " 'thanks',\n",
              " 'MCGM',\n",
              " 'team',\n",
              " 'deploying',\n",
              " 'personnel',\n",
              " 'particularly',\n",
              " 'Mr.',\n",
              " 'Prasad',\n",
              " 'Gharat',\n",
              " 'extensive',\n",
              " 'field',\n",
              " 'visits',\n",
              " 'helped',\n",
              " 'understanding',\n",
              " 'actual',\n",
              " 'ground',\n",
              " 'conditions',\n",
              " '........................................................................................',\n",
              " '3',\n",
              " 'BEST',\n",
              " '...............................................................................................................................',\n",
              " '.................',\n",
              " '5',\n",
              " 'Brihanmumbai',\n",
              " 'Electric',\n",
              " 'Supply',\n",
              " 'Transport',\n",
              " 'Undertaking',\n",
              " '..............................................................',\n",
              " '5',\n",
              " 'CIDCO',\n",
              " '...............................................................................................................................',\n",
              " '..............',\n",
              " '5',\n",
              " 'City',\n",
              " 'Industrial',\n",
              " 'Development',\n",
              " 'Corporation',\n",
              " '...............................................................................',\n",
              " '5',\n",
              " 'CTP',\n",
              " '...............................................................................................................................',\n",
              " '..................',\n",
              " '5',\n",
              " 'Comprehensive',\n",
              " 'Transportation',\n",
              " 'Plan',\n",
              " '...............................................................................................',\n",
              " '5',\n",
              " 'DP',\n",
              " '...............................................................................................................................',\n",
              " '....................',\n",
              " '5',\n",
              " 'Development',\n",
              " 'Plan',\n",
              " '..........................................................................................................................',\n",
              " '5',\n",
              " 'DPGM34',\n",
              " '...............................................................................................................................',\n",
              " '..........',\n",
              " '5',\n",
              " 'Development',\n",
              " 'Plan',\n",
              " 'Greater',\n",
              " 'Mumbai',\n",
              " '2034',\n",
              " '.......................................................................................',\n",
              " '5',\n",
              " 'DCR',\n",
              " '...............................................................................................................................',\n",
              " '..................',\n",
              " '5',\n",
              " 'Development',\n",
              " 'Control',\n",
              " 'Regulations',\n",
              " '...................................................................................................',\n",
              " '5',\n",
              " 'DGPS',\n",
              " '...........................................................................................................................',\n",
              " '....................',\n",
              " '5',\n",
              " 'Digital',\n",
              " 'Global',\n",
              " 'Positioning',\n",
              " 'System',\n",
              " '...................................................................................................',\n",
              " '5',\n",
              " 'DPGM',\n",
              " '...............................................................................................................................',\n",
              " '..............',\n",
              " '5',\n",
              " 'Development',\n",
              " 'Plan',\n",
              " 'Greater',\n",
              " 'Mumbai',\n",
              " '...........................................................................................',\n",
              " '5',\n",
              " 'ELU',\n",
              " '...............................................................................................................................',\n",
              " '..................',\n",
              " '5',\n",
              " 'Existing',\n",
              " 'Land',\n",
              " 'use',\n",
              " '.............................................................................................................................',\n",
              " '5',\n",
              " 'FSI',\n",
              " '...............................................................................................................................',\n",
              " '....................',\n",
              " '5',\n",
              " 'Floor',\n",
              " 'Space',\n",
              " 'Index',\n",
              " '............................................................................................................................',\n",
              " '5',\n",
              " 'GIS',\n",
              " '...............................................................................................................................',\n",
              " '...................',\n",
              " '5']"
            ]
          },
          "metadata": {},
          "execution_count": 30
        }
      ]
    },
    {
      "cell_type": "code",
      "source": [
        "name_list = list()\n",
        "check = ['Mr.', 'Mrs.', 'Ms.']\n",
        "for idx, token in enumerate(tokens):\n",
        "   if token.startswith(tuple(check)) and idx < (len(tokens)-1):\n",
        "      name = token + tokens[idx+1] +'' + tokens[idx+2]\n",
        "      name_list.append(name)\n",
        "\n",
        "print(name_list)"
      ],
      "metadata": {
        "colab": {
          "base_uri": "https://localhost:8080/"
        },
        "id": "-ojjoaOmY7XI",
        "outputId": "0e1d4fa2-b7e4-4217-91ac-cbad30af20cf"
      },
      "execution_count": 31,
      "outputs": [
        {
          "output_type": "stream",
          "name": "stdout",
          "text": [
            "['Mr.JagdishTalreja', 'Mr.DineshNaik', 'Mr.HirenDaftardar', 'Ms.AnitaNaik', 'Mr.PrasadGharat']\n"
          ]
        }
      ]
    },
    {
      "cell_type": "code",
      "source": [
        "wFile.close()"
      ],
      "metadata": {
        "id": "aD3E_NPyZe0J"
      },
      "execution_count": 32,
      "outputs": []
    },
    {
      "cell_type": "code",
      "source": [
        "#COLLETING DATA FROM WORD FILE"
      ],
      "metadata": {
        "id": "lIW4aAqaZsrE"
      },
      "execution_count": 33,
      "outputs": []
    },
    {
      "cell_type": "code",
      "source": [
        "!pip install python-docx"
      ],
      "metadata": {
        "colab": {
          "base_uri": "https://localhost:8080/"
        },
        "id": "e3QGisoFZ0V1",
        "outputId": "f1909e37-9e40-4c5c-f705-2cfeded984da"
      },
      "execution_count": 35,
      "outputs": [
        {
          "output_type": "stream",
          "name": "stdout",
          "text": [
            "Collecting python-docx\n",
            "  Downloading python_docx-1.1.2-py3-none-any.whl.metadata (2.0 kB)\n",
            "Requirement already satisfied: lxml>=3.1.0 in /usr/local/lib/python3.11/dist-packages (from python-docx) (5.3.0)\n",
            "Requirement already satisfied: typing-extensions>=4.9.0 in /usr/local/lib/python3.11/dist-packages (from python-docx) (4.12.2)\n",
            "Downloading python_docx-1.1.2-py3-none-any.whl (244 kB)\n",
            "\u001b[2K   \u001b[90m━━━━━━━━━━━━━━━━━━━━━━━━━━━━━━━━━━━━━━━━\u001b[0m \u001b[32m244.3/244.3 kB\u001b[0m \u001b[31m2.8 MB/s\u001b[0m eta \u001b[36m0:00:00\u001b[0m\n",
            "\u001b[?25hInstalling collected packages: python-docx\n",
            "Successfully installed python-docx-1.1.2\n"
          ]
        }
      ]
    },
    {
      "cell_type": "code",
      "source": [
        "import docx"
      ],
      "metadata": {
        "id": "nD-PR3LtZ7jv"
      },
      "execution_count": 36,
      "outputs": []
    },
    {
      "cell_type": "code",
      "source": [
        "doc = open(\"/content/Resume - Sai Siddhartha Adepu.docx\",\"rb\")\n",
        "document = docx.Document(doc)"
      ],
      "metadata": {
        "id": "1uCe3hWEaAgL"
      },
      "execution_count": 38,
      "outputs": []
    },
    {
      "cell_type": "code",
      "source": [
        "docu=\"\"\n",
        "for para in document.paragraphs:\n",
        "  docu += para.text\n",
        "  print(docu)"
      ],
      "metadata": {
        "colab": {
          "base_uri": "https://localhost:8080/"
        },
        "id": "oTGcEHS8aK22",
        "outputId": "5a39c3ab-6b31-4efc-e514-79c0b7021aa0"
      },
      "execution_count": 39,
      "outputs": [
        {
          "output_type": "stream",
          "name": "stdout",
          "text": [
            "Sai siddhartha Adepu\n",
            "Sai siddhartha AdepuKarimnagar, Telangana, India\n",
            "Sai siddhartha AdepuKarimnagar, Telangana, India\n",
            "Sai siddhartha AdepuKarimnagar, Telangana, IndiaSiddharthaadepu12@gmail.com\t\n",
            "Sai siddhartha AdepuKarimnagar, Telangana, IndiaSiddharthaadepu12@gmail.com\thttps://www.linkedin.com/in/siddhartha-adepu-2a810431a?utm_source=share&utm_campaign=share_via&utm_content=profile&utm_medium=android_app\n",
            "Sai siddhartha AdepuKarimnagar, Telangana, IndiaSiddharthaadepu12@gmail.com\thttps://www.linkedin.com/in/siddhartha-adepu-2a810431a?utm_source=share&utm_campaign=share_via&utm_content=profile&utm_medium=android_appSummary\n",
            "Sai siddhartha AdepuKarimnagar, Telangana, IndiaSiddharthaadepu12@gmail.com\thttps://www.linkedin.com/in/siddhartha-adepu-2a810431a?utm_source=share&utm_campaign=share_via&utm_content=profile&utm_medium=android_appSummaryI am well problem solver, honest, hardworking, leadership skills, efficiency and fast learner....\n",
            "Sai siddhartha AdepuKarimnagar, Telangana, IndiaSiddharthaadepu12@gmail.com\thttps://www.linkedin.com/in/siddhartha-adepu-2a810431a?utm_source=share&utm_campaign=share_via&utm_content=profile&utm_medium=android_appSummaryI am well problem solver, honest, hardworking, leadership skills, efficiency and fast learner....\n",
            "Sai siddhartha AdepuKarimnagar, Telangana, IndiaSiddharthaadepu12@gmail.com\thttps://www.linkedin.com/in/siddhartha-adepu-2a810431a?utm_source=share&utm_campaign=share_via&utm_content=profile&utm_medium=android_appSummaryI am well problem solver, honest, hardworking, leadership skills, efficiency and fast learner....PROJECTS :\n",
            "Sai siddhartha AdepuKarimnagar, Telangana, IndiaSiddharthaadepu12@gmail.com\thttps://www.linkedin.com/in/siddhartha-adepu-2a810431a?utm_source=share&utm_campaign=share_via&utm_content=profile&utm_medium=android_appSummaryI am well problem solver, honest, hardworking, leadership skills, efficiency and fast learner....PROJECTS :Hangout\n",
            "Sai siddhartha AdepuKarimnagar, Telangana, IndiaSiddharthaadepu12@gmail.com\thttps://www.linkedin.com/in/siddhartha-adepu-2a810431a?utm_source=share&utm_campaign=share_via&utm_content=profile&utm_medium=android_appSummaryI am well problem solver, honest, hardworking, leadership skills, efficiency and fast learner....PROJECTS :HangoutCrop yield prediction using machine learning \n",
            "Sai siddhartha AdepuKarimnagar, Telangana, IndiaSiddharthaadepu12@gmail.com\thttps://www.linkedin.com/in/siddhartha-adepu-2a810431a?utm_source=share&utm_campaign=share_via&utm_content=profile&utm_medium=android_appSummaryI am well problem solver, honest, hardworking, leadership skills, efficiency and fast learner....PROJECTS :HangoutCrop yield prediction using machine learning \n",
            "Sai siddhartha AdepuKarimnagar, Telangana, IndiaSiddharthaadepu12@gmail.com\thttps://www.linkedin.com/in/siddhartha-adepu-2a810431a?utm_source=share&utm_campaign=share_via&utm_content=profile&utm_medium=android_appSummaryI am well problem solver, honest, hardworking, leadership skills, efficiency and fast learner....PROJECTS :HangoutCrop yield prediction using machine learning Skills :\n",
            "Sai siddhartha AdepuKarimnagar, Telangana, IndiaSiddharthaadepu12@gmail.com\thttps://www.linkedin.com/in/siddhartha-adepu-2a810431a?utm_source=share&utm_campaign=share_via&utm_content=profile&utm_medium=android_appSummaryI am well problem solver, honest, hardworking, leadership skills, efficiency and fast learner....PROJECTS :HangoutCrop yield prediction using machine learning Skills :UI development\n",
            "Sai siddhartha AdepuKarimnagar, Telangana, IndiaSiddharthaadepu12@gmail.com\thttps://www.linkedin.com/in/siddhartha-adepu-2a810431a?utm_source=share&utm_campaign=share_via&utm_content=profile&utm_medium=android_appSummaryI am well problem solver, honest, hardworking, leadership skills, efficiency and fast learner....PROJECTS :HangoutCrop yield prediction using machine learning Skills :UI developmentpython programming (intermediate)\n",
            "Sai siddhartha AdepuKarimnagar, Telangana, IndiaSiddharthaadepu12@gmail.com\thttps://www.linkedin.com/in/siddhartha-adepu-2a810431a?utm_source=share&utm_campaign=share_via&utm_content=profile&utm_medium=android_appSummaryI am well problem solver, honest, hardworking, leadership skills, efficiency and fast learner....PROJECTS :HangoutCrop yield prediction using machine learning Skills :UI developmentpython programming (intermediate)CSS, JS (beginner)\n",
            "Sai siddhartha AdepuKarimnagar, Telangana, IndiaSiddharthaadepu12@gmail.com\thttps://www.linkedin.com/in/siddhartha-adepu-2a810431a?utm_source=share&utm_campaign=share_via&utm_content=profile&utm_medium=android_appSummaryI am well problem solver, honest, hardworking, leadership skills, efficiency and fast learner....PROJECTS :HangoutCrop yield prediction using machine learning Skills :UI developmentpython programming (intermediate)CSS, JS (beginner)\n",
            "Sai siddhartha AdepuKarimnagar, Telangana, IndiaSiddharthaadepu12@gmail.com\thttps://www.linkedin.com/in/siddhartha-adepu-2a810431a?utm_source=share&utm_campaign=share_via&utm_content=profile&utm_medium=android_appSummaryI am well problem solver, honest, hardworking, leadership skills, efficiency and fast learner....PROJECTS :HangoutCrop yield prediction using machine learning Skills :UI developmentpython programming (intermediate)CSS, JS (beginner)Career Highlights :\n",
            "Sai siddhartha AdepuKarimnagar, Telangana, IndiaSiddharthaadepu12@gmail.com\thttps://www.linkedin.com/in/siddhartha-adepu-2a810431a?utm_source=share&utm_campaign=share_via&utm_content=profile&utm_medium=android_appSummaryI am well problem solver, honest, hardworking, leadership skills, efficiency and fast learner....PROJECTS :HangoutCrop yield prediction using machine learning Skills :UI developmentpython programming (intermediate)CSS, JS (beginner)Career Highlights :Scalable Machine Learning on Big Data Using Apache\n",
            "Sai siddhartha AdepuKarimnagar, Telangana, IndiaSiddharthaadepu12@gmail.com\thttps://www.linkedin.com/in/siddhartha-adepu-2a810431a?utm_source=share&utm_campaign=share_via&utm_content=profile&utm_medium=android_appSummaryI am well problem solver, honest, hardworking, leadership skills, efficiency and fast learner....PROJECTS :HangoutCrop yield prediction using machine learning Skills :UI developmentpython programming (intermediate)CSS, JS (beginner)Career Highlights :Scalable Machine Learning on Big Data Using ApacheAI Workflow: Business Priorities and Data Ingestion\n",
            "Sai siddhartha AdepuKarimnagar, Telangana, IndiaSiddharthaadepu12@gmail.com\thttps://www.linkedin.com/in/siddhartha-adepu-2a810431a?utm_source=share&utm_campaign=share_via&utm_content=profile&utm_medium=android_appSummaryI am well problem solver, honest, hardworking, leadership skills, efficiency and fast learner....PROJECTS :HangoutCrop yield prediction using machine learning Skills :UI developmentpython programming (intermediate)CSS, JS (beginner)Career Highlights :Scalable Machine Learning on Big Data Using ApacheAI Workflow: Business Priorities and Data IngestionIntroduction to Data Analytics\n",
            "Sai siddhartha AdepuKarimnagar, Telangana, IndiaSiddharthaadepu12@gmail.com\thttps://www.linkedin.com/in/siddhartha-adepu-2a810431a?utm_source=share&utm_campaign=share_via&utm_content=profile&utm_medium=android_appSummaryI am well problem solver, honest, hardworking, leadership skills, efficiency and fast learner....PROJECTS :HangoutCrop yield prediction using machine learning Skills :UI developmentpython programming (intermediate)CSS, JS (beginner)Career Highlights :Scalable Machine Learning on Big Data Using ApacheAI Workflow: Business Priorities and Data IngestionIntroduction to Data AnalyticsIntroduction to Cybersecurity Tools and Cyberattacks\n",
            "Sai siddhartha AdepuKarimnagar, Telangana, IndiaSiddharthaadepu12@gmail.com\thttps://www.linkedin.com/in/siddhartha-adepu-2a810431a?utm_source=share&utm_campaign=share_via&utm_content=profile&utm_medium=android_appSummaryI am well problem solver, honest, hardworking, leadership skills, efficiency and fast learner....PROJECTS :HangoutCrop yield prediction using machine learning Skills :UI developmentpython programming (intermediate)CSS, JS (beginner)Career Highlights :Scalable Machine Learning on Big Data Using ApacheAI Workflow: Business Priorities and Data IngestionIntroduction to Data AnalyticsIntroduction to Cybersecurity Tools and CyberattacksAI for Everyone\n",
            "Sai siddhartha AdepuKarimnagar, Telangana, IndiaSiddharthaadepu12@gmail.com\thttps://www.linkedin.com/in/siddhartha-adepu-2a810431a?utm_source=share&utm_campaign=share_via&utm_content=profile&utm_medium=android_appSummaryI am well problem solver, honest, hardworking, leadership skills, efficiency and fast learner....PROJECTS :HangoutCrop yield prediction using machine learning Skills :UI developmentpython programming (intermediate)CSS, JS (beginner)Career Highlights :Scalable Machine Learning on Big Data Using ApacheAI Workflow: Business Priorities and Data IngestionIntroduction to Data AnalyticsIntroduction to Cybersecurity Tools and CyberattacksAI for EveryoneEducation\n",
            "Sai siddhartha AdepuKarimnagar, Telangana, IndiaSiddharthaadepu12@gmail.com\thttps://www.linkedin.com/in/siddhartha-adepu-2a810431a?utm_source=share&utm_campaign=share_via&utm_content=profile&utm_medium=android_appSummaryI am well problem solver, honest, hardworking, leadership skills, efficiency and fast learner....PROJECTS :HangoutCrop yield prediction using machine learning Skills :UI developmentpython programming (intermediate)CSS, JS (beginner)Career Highlights :Scalable Machine Learning on Big Data Using ApacheAI Workflow: Business Priorities and Data IngestionIntroduction to Data AnalyticsIntroduction to Cybersecurity Tools and CyberattacksAI for EveryoneEducationAlphorse Junior College - India\n",
            "Sai siddhartha AdepuKarimnagar, Telangana, IndiaSiddharthaadepu12@gmail.com\thttps://www.linkedin.com/in/siddhartha-adepu-2a810431a?utm_source=share&utm_campaign=share_via&utm_content=profile&utm_medium=android_appSummaryI am well problem solver, honest, hardworking, leadership skills, efficiency and fast learner....PROJECTS :HangoutCrop yield prediction using machine learning Skills :UI developmentpython programming (intermediate)CSS, JS (beginner)Career Highlights :Scalable Machine Learning on Big Data Using ApacheAI Workflow: Business Priorities and Data IngestionIntroduction to Data AnalyticsIntroduction to Cybersecurity Tools and CyberattacksAI for EveryoneEducationAlphorse Junior College - India12, MPC\n",
            "Sai siddhartha AdepuKarimnagar, Telangana, IndiaSiddharthaadepu12@gmail.com\thttps://www.linkedin.com/in/siddhartha-adepu-2a810431a?utm_source=share&utm_campaign=share_via&utm_content=profile&utm_medium=android_appSummaryI am well problem solver, honest, hardworking, leadership skills, efficiency and fast learner....PROJECTS :HangoutCrop yield prediction using machine learning Skills :UI developmentpython programming (intermediate)CSS, JS (beginner)Career Highlights :Scalable Machine Learning on Big Data Using ApacheAI Workflow: Business Priorities and Data IngestionIntroduction to Data AnalyticsIntroduction to Cybersecurity Tools and CyberattacksAI for EveryoneEducationAlphorse Junior College - India12, MPC2020 - 2022\n",
            "Sai siddhartha AdepuKarimnagar, Telangana, IndiaSiddharthaadepu12@gmail.com\thttps://www.linkedin.com/in/siddhartha-adepu-2a810431a?utm_source=share&utm_campaign=share_via&utm_content=profile&utm_medium=android_appSummaryI am well problem solver, honest, hardworking, leadership skills, efficiency and fast learner....PROJECTS :HangoutCrop yield prediction using machine learning Skills :UI developmentpython programming (intermediate)CSS, JS (beginner)Career Highlights :Scalable Machine Learning on Big Data Using ApacheAI Workflow: Business Priorities and Data IngestionIntroduction to Data AnalyticsIntroduction to Cybersecurity Tools and CyberattacksAI for EveryoneEducationAlphorse Junior College - India12, MPC2020 - 2022\n",
            "Sai siddhartha AdepuKarimnagar, Telangana, IndiaSiddharthaadepu12@gmail.com\thttps://www.linkedin.com/in/siddhartha-adepu-2a810431a?utm_source=share&utm_campaign=share_via&utm_content=profile&utm_medium=android_appSummaryI am well problem solver, honest, hardworking, leadership skills, efficiency and fast learner....PROJECTS :HangoutCrop yield prediction using machine learning Skills :UI developmentpython programming (intermediate)CSS, JS (beginner)Career Highlights :Scalable Machine Learning on Big Data Using ApacheAI Workflow: Business Priorities and Data IngestionIntroduction to Data AnalyticsIntroduction to Cybersecurity Tools and CyberattacksAI for EveryoneEducationAlphorse Junior College - India12, MPC2020 - 2022Malla Reddy University\n",
            "Sai siddhartha AdepuKarimnagar, Telangana, IndiaSiddharthaadepu12@gmail.com\thttps://www.linkedin.com/in/siddhartha-adepu-2a810431a?utm_source=share&utm_campaign=share_via&utm_content=profile&utm_medium=android_appSummaryI am well problem solver, honest, hardworking, leadership skills, efficiency and fast learner....PROJECTS :HangoutCrop yield prediction using machine learning Skills :UI developmentpython programming (intermediate)CSS, JS (beginner)Career Highlights :Scalable Machine Learning on Big Data Using ApacheAI Workflow: Business Priorities and Data IngestionIntroduction to Data AnalyticsIntroduction to Cybersecurity Tools and CyberattacksAI for EveryoneEducationAlphorse Junior College - India12, MPC2020 - 2022Malla Reddy University2022 - 2026\n",
            "Sai siddhartha AdepuKarimnagar, Telangana, IndiaSiddharthaadepu12@gmail.com\thttps://www.linkedin.com/in/siddhartha-adepu-2a810431a?utm_source=share&utm_campaign=share_via&utm_content=profile&utm_medium=android_appSummaryI am well problem solver, honest, hardworking, leadership skills, efficiency and fast learner....PROJECTS :HangoutCrop yield prediction using machine learning Skills :UI developmentpython programming (intermediate)CSS, JS (beginner)Career Highlights :Scalable Machine Learning on Big Data Using ApacheAI Workflow: Business Priorities and Data IngestionIntroduction to Data AnalyticsIntroduction to Cybersecurity Tools and CyberattacksAI for EveryoneEducationAlphorse Junior College - India12, MPC2020 - 2022Malla Reddy University2022 - 2026\n",
            "Sai siddhartha AdepuKarimnagar, Telangana, IndiaSiddharthaadepu12@gmail.com\thttps://www.linkedin.com/in/siddhartha-adepu-2a810431a?utm_source=share&utm_campaign=share_via&utm_content=profile&utm_medium=android_appSummaryI am well problem solver, honest, hardworking, leadership skills, efficiency and fast learner....PROJECTS :HangoutCrop yield prediction using machine learning Skills :UI developmentpython programming (intermediate)CSS, JS (beginner)Career Highlights :Scalable Machine Learning on Big Data Using ApacheAI Workflow: Business Priorities and Data IngestionIntroduction to Data AnalyticsIntroduction to Cybersecurity Tools and CyberattacksAI for EveryoneEducationAlphorse Junior College - India12, MPC2020 - 2022Malla Reddy University2022 - 2026Licenses & Certifications\n",
            "Sai siddhartha AdepuKarimnagar, Telangana, IndiaSiddharthaadepu12@gmail.com\thttps://www.linkedin.com/in/siddhartha-adepu-2a810431a?utm_source=share&utm_campaign=share_via&utm_content=profile&utm_medium=android_appSummaryI am well problem solver, honest, hardworking, leadership skills, efficiency and fast learner....PROJECTS :HangoutCrop yield prediction using machine learning Skills :UI developmentpython programming (intermediate)CSS, JS (beginner)Career Highlights :Scalable Machine Learning on Big Data Using ApacheAI Workflow: Business Priorities and Data IngestionIntroduction to Data AnalyticsIntroduction to Cybersecurity Tools and CyberattacksAI for EveryoneEducationAlphorse Junior College - India12, MPC2020 - 2022Malla Reddy University2022 - 2026Licenses & Certifications  Scalable Machine Learning on Big Data using Apache spark - Coursera\n",
            "Sai siddhartha AdepuKarimnagar, Telangana, IndiaSiddharthaadepu12@gmail.com\thttps://www.linkedin.com/in/siddhartha-adepu-2a810431a?utm_source=share&utm_campaign=share_via&utm_content=profile&utm_medium=android_appSummaryI am well problem solver, honest, hardworking, leadership skills, efficiency and fast learner....PROJECTS :HangoutCrop yield prediction using machine learning Skills :UI developmentpython programming (intermediate)CSS, JS (beginner)Career Highlights :Scalable Machine Learning on Big Data Using ApacheAI Workflow: Business Priorities and Data IngestionIntroduction to Data AnalyticsIntroduction to Cybersecurity Tools and CyberattacksAI for EveryoneEducationAlphorse Junior College - India12, MPC2020 - 2022Malla Reddy University2022 - 2026Licenses & Certifications  Scalable Machine Learning on Big Data using Apache spark - Coursera\n",
            "Sai siddhartha AdepuKarimnagar, Telangana, IndiaSiddharthaadepu12@gmail.com\thttps://www.linkedin.com/in/siddhartha-adepu-2a810431a?utm_source=share&utm_campaign=share_via&utm_content=profile&utm_medium=android_appSummaryI am well problem solver, honest, hardworking, leadership skills, efficiency and fast learner....PROJECTS :HangoutCrop yield prediction using machine learning Skills :UI developmentpython programming (intermediate)CSS, JS (beginner)Career Highlights :Scalable Machine Learning on Big Data Using ApacheAI Workflow: Business Priorities and Data IngestionIntroduction to Data AnalyticsIntroduction to Cybersecurity Tools and CyberattacksAI for EveryoneEducationAlphorse Junior College - India12, MPC2020 - 2022Malla Reddy University2022 - 2026Licenses & Certifications  Scalable Machine Learning on Big Data using Apache spark - Coursera  AI For Everyone – Coursera\n",
            "Sai siddhartha AdepuKarimnagar, Telangana, IndiaSiddharthaadepu12@gmail.com\thttps://www.linkedin.com/in/siddhartha-adepu-2a810431a?utm_source=share&utm_campaign=share_via&utm_content=profile&utm_medium=android_appSummaryI am well problem solver, honest, hardworking, leadership skills, efficiency and fast learner....PROJECTS :HangoutCrop yield prediction using machine learning Skills :UI developmentpython programming (intermediate)CSS, JS (beginner)Career Highlights :Scalable Machine Learning on Big Data Using ApacheAI Workflow: Business Priorities and Data IngestionIntroduction to Data AnalyticsIntroduction to Cybersecurity Tools and CyberattacksAI for EveryoneEducationAlphorse Junior College - India12, MPC2020 - 2022Malla Reddy University2022 - 2026Licenses & Certifications  Scalable Machine Learning on Big Data using Apache spark - Coursera  AI For Everyone – Coursera \n",
            "Sai siddhartha AdepuKarimnagar, Telangana, IndiaSiddharthaadepu12@gmail.com\thttps://www.linkedin.com/in/siddhartha-adepu-2a810431a?utm_source=share&utm_campaign=share_via&utm_content=profile&utm_medium=android_appSummaryI am well problem solver, honest, hardworking, leadership skills, efficiency and fast learner....PROJECTS :HangoutCrop yield prediction using machine learning Skills :UI developmentpython programming (intermediate)CSS, JS (beginner)Career Highlights :Scalable Machine Learning on Big Data Using ApacheAI Workflow: Business Priorities and Data IngestionIntroduction to Data AnalyticsIntroduction to Cybersecurity Tools and CyberattacksAI for EveryoneEducationAlphorse Junior College - India12, MPC2020 - 2022Malla Reddy University2022 - 2026Licenses & Certifications  Scalable Machine Learning on Big Data using Apache spark - Coursera  AI For Everyone – Coursera   AI Workflow : Business Priorities and Data\n",
            "Sai siddhartha AdepuKarimnagar, Telangana, IndiaSiddharthaadepu12@gmail.com\thttps://www.linkedin.com/in/siddhartha-adepu-2a810431a?utm_source=share&utm_campaign=share_via&utm_content=profile&utm_medium=android_appSummaryI am well problem solver, honest, hardworking, leadership skills, efficiency and fast learner....PROJECTS :HangoutCrop yield prediction using machine learning Skills :UI developmentpython programming (intermediate)CSS, JS (beginner)Career Highlights :Scalable Machine Learning on Big Data Using ApacheAI Workflow: Business Priorities and Data IngestionIntroduction to Data AnalyticsIntroduction to Cybersecurity Tools and CyberattacksAI for EveryoneEducationAlphorse Junior College - India12, MPC2020 - 2022Malla Reddy University2022 - 2026Licenses & Certifications  Scalable Machine Learning on Big Data using Apache spark - Coursera  AI For Everyone – Coursera   AI Workflow : Business Priorities and DataSkill\n",
            "Sai siddhartha AdepuKarimnagar, Telangana, IndiaSiddharthaadepu12@gmail.com\thttps://www.linkedin.com/in/siddhartha-adepu-2a810431a?utm_source=share&utm_campaign=share_via&utm_content=profile&utm_medium=android_appSummaryI am well problem solver, honest, hardworking, leadership skills, efficiency and fast learner....PROJECTS :HangoutCrop yield prediction using machine learning Skills :UI developmentpython programming (intermediate)CSS, JS (beginner)Career Highlights :Scalable Machine Learning on Big Data Using ApacheAI Workflow: Business Priorities and Data IngestionIntroduction to Data AnalyticsIntroduction to Cybersecurity Tools and CyberattacksAI for EveryoneEducationAlphorse Junior College - India12, MPC2020 - 2022Malla Reddy University2022 - 2026Licenses & Certifications  Scalable Machine Learning on Big Data using Apache spark - Coursera  AI For Everyone – Coursera   AI Workflow : Business Priorities and DataSkill• Java (programming Language) • web design and development • Database Management System (DBMS) • machine Learning • Python (Programming Language) • artificial intelligence \n",
            "Sai siddhartha AdepuKarimnagar, Telangana, IndiaSiddharthaadepu12@gmail.com\thttps://www.linkedin.com/in/siddhartha-adepu-2a810431a?utm_source=share&utm_campaign=share_via&utm_content=profile&utm_medium=android_appSummaryI am well problem solver, honest, hardworking, leadership skills, efficiency and fast learner....PROJECTS :HangoutCrop yield prediction using machine learning Skills :UI developmentpython programming (intermediate)CSS, JS (beginner)Career Highlights :Scalable Machine Learning on Big Data Using ApacheAI Workflow: Business Priorities and Data IngestionIntroduction to Data AnalyticsIntroduction to Cybersecurity Tools and CyberattacksAI for EveryoneEducationAlphorse Junior College - India12, MPC2020 - 2022Malla Reddy University2022 - 2026Licenses & Certifications  Scalable Machine Learning on Big Data using Apache spark - Coursera  AI For Everyone – Coursera   AI Workflow : Business Priorities and DataSkill• Java (programming Language) • web design and development • Database Management System (DBMS) • machine Learning • Python (Programming Language) • artificial intelligence \n",
            "Sai siddhartha AdepuKarimnagar, Telangana, IndiaSiddharthaadepu12@gmail.com\thttps://www.linkedin.com/in/siddhartha-adepu-2a810431a?utm_source=share&utm_campaign=share_via&utm_content=profile&utm_medium=android_appSummaryI am well problem solver, honest, hardworking, leadership skills, efficiency and fast learner....PROJECTS :HangoutCrop yield prediction using machine learning Skills :UI developmentpython programming (intermediate)CSS, JS (beginner)Career Highlights :Scalable Machine Learning on Big Data Using ApacheAI Workflow: Business Priorities and Data IngestionIntroduction to Data AnalyticsIntroduction to Cybersecurity Tools and CyberattacksAI for EveryoneEducationAlphorse Junior College - India12, MPC2020 - 2022Malla Reddy University2022 - 2026Licenses & Certifications  Scalable Machine Learning on Big Data using Apache spark - Coursera  AI For Everyone – Coursera   AI Workflow : Business Priorities and DataSkill• Java (programming Language) • web design and development • Database Management System (DBMS) • machine Learning • Python (Programming Language) • artificial intelligence \n",
            "Sai siddhartha AdepuKarimnagar, Telangana, IndiaSiddharthaadepu12@gmail.com\thttps://www.linkedin.com/in/siddhartha-adepu-2a810431a?utm_source=share&utm_campaign=share_via&utm_content=profile&utm_medium=android_appSummaryI am well problem solver, honest, hardworking, leadership skills, efficiency and fast learner....PROJECTS :HangoutCrop yield prediction using machine learning Skills :UI developmentpython programming (intermediate)CSS, JS (beginner)Career Highlights :Scalable Machine Learning on Big Data Using ApacheAI Workflow: Business Priorities and Data IngestionIntroduction to Data AnalyticsIntroduction to Cybersecurity Tools and CyberattacksAI for EveryoneEducationAlphorse Junior College - India12, MPC2020 - 2022Malla Reddy University2022 - 2026Licenses & Certifications  Scalable Machine Learning on Big Data using Apache spark - Coursera  AI For Everyone – Coursera   AI Workflow : Business Priorities and DataSkill• Java (programming Language) • web design and development • Database Management System (DBMS) • machine Learning • Python (Programming Language) • artificial intelligence \n"
          ]
        }
      ]
    },
    {
      "cell_type": "code",
      "source": [
        "for i in range(len(document.paragraphs)):\n",
        "  print(\"The content of the paragraph\"+ str(i)+\"is: \"+document.paragraphs[i].text+\"\\n\")"
      ],
      "metadata": {
        "colab": {
          "base_uri": "https://localhost:8080/"
        },
        "id": "fVJPswV9bLIc",
        "outputId": "1f01dcf0-ef79-4fd7-f105-2dee96c2fbc9"
      },
      "execution_count": 40,
      "outputs": [
        {
          "output_type": "stream",
          "name": "stdout",
          "text": [
            "The content of the paragraph0is: Sai siddhartha Adepu\n",
            "\n",
            "The content of the paragraph1is: Karimnagar, Telangana, India\n",
            "\n",
            "The content of the paragraph2is: \n",
            "\n",
            "The content of the paragraph3is: Siddharthaadepu12@gmail.com\t\n",
            "\n",
            "The content of the paragraph4is: https://www.linkedin.com/in/siddhartha-adepu-2a810431a?utm_source=share&utm_campaign=share_via&utm_content=profile&utm_medium=android_app\n",
            "\n",
            "The content of the paragraph5is: Summary\n",
            "\n",
            "The content of the paragraph6is: I am well problem solver, honest, hardworking, leadership skills, efficiency and fast learner....\n",
            "\n",
            "The content of the paragraph7is: \n",
            "\n",
            "The content of the paragraph8is: PROJECTS :\n",
            "\n",
            "The content of the paragraph9is: Hangout\n",
            "\n",
            "The content of the paragraph10is: Crop yield prediction using machine learning \n",
            "\n",
            "The content of the paragraph11is: \n",
            "\n",
            "The content of the paragraph12is: Skills :\n",
            "\n",
            "The content of the paragraph13is: UI development\n",
            "\n",
            "The content of the paragraph14is: python programming (intermediate)\n",
            "\n",
            "The content of the paragraph15is: CSS, JS (beginner)\n",
            "\n",
            "The content of the paragraph16is: \n",
            "\n",
            "The content of the paragraph17is: Career Highlights :\n",
            "\n",
            "The content of the paragraph18is: Scalable Machine Learning on Big Data Using Apache\n",
            "\n",
            "The content of the paragraph19is: AI Workflow: Business Priorities and Data Ingestion\n",
            "\n",
            "The content of the paragraph20is: Introduction to Data Analytics\n",
            "\n",
            "The content of the paragraph21is: Introduction to Cybersecurity Tools and Cyberattacks\n",
            "\n",
            "The content of the paragraph22is: AI for Everyone\n",
            "\n",
            "The content of the paragraph23is: Education\n",
            "\n",
            "The content of the paragraph24is: Alphorse Junior College - India\n",
            "\n",
            "The content of the paragraph25is: 12, MPC\n",
            "\n",
            "The content of the paragraph26is: 2020 - 2022\n",
            "\n",
            "The content of the paragraph27is: \n",
            "\n",
            "The content of the paragraph28is: Malla Reddy University\n",
            "\n",
            "The content of the paragraph29is: 2022 - 2026\n",
            "\n",
            "The content of the paragraph30is: \n",
            "\n",
            "The content of the paragraph31is: Licenses & Certifications\n",
            "\n",
            "The content of the paragraph32is:   Scalable Machine Learning on Big Data using Apache spark - Coursera\n",
            "\n",
            "The content of the paragraph33is: \n",
            "\n",
            "The content of the paragraph34is:   AI For Everyone – Coursera\n",
            "\n",
            "The content of the paragraph35is:  \n",
            "\n",
            "The content of the paragraph36is:   AI Workflow : Business Priorities and Data\n",
            "\n",
            "The content of the paragraph37is: Skill\n",
            "\n",
            "The content of the paragraph38is: • Java (programming Language) • web design and development • Database Management System (DBMS) • machine Learning • Python (Programming Language) • artificial intelligence \n",
            "\n",
            "The content of the paragraph39is: \n",
            "\n",
            "The content of the paragraph40is: \n",
            "\n",
            "The content of the paragraph41is: \n",
            "\n"
          ]
        }
      ]
    },
    {
      "cell_type": "code",
      "source": [],
      "metadata": {
        "id": "YfBguBOvc3Zj"
      },
      "execution_count": null,
      "outputs": []
    }
  ]
}