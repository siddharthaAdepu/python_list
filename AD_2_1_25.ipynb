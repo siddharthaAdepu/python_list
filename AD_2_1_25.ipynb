{
  "nbformat": 4,
  "nbformat_minor": 0,
  "metadata": {
    "colab": {
      "provenance": []
    },
    "kernelspec": {
      "name": "python3",
      "display_name": "Python 3"
    },
    "language_info": {
      "name": "python"
    }
  },
  "cells": [
    {
      "cell_type": "code",
      "source": [
        "import pandas as pd\n",
        "import nltk\n",
        "from nltk.corpus import stopwords\n",
        "from textblob import TextBlob\n",
        "\n",
        "# Download the 'stopwords' dataset\n",
        "nltk.download('stopwords')\n",
        "\n",
        "# Load your data into a pandas DataFrame called 'df'\n",
        "# Replace 'your_data.csv' with the actual path to your data file\n",
        "df = pd.read_csv('/content/Reviews.csv')\n",
        "\n",
        "# Now you can proceed with your text processing\n",
        "df['Text'] = df['Text'].apply(lambda x: \"\".join(x.lower() for x in x.split()))\n",
        "df['Text'] = df['Text'].apply(lambda x: \"\".join(x for x in x.split() if x not in stopwords.words('english')))"
      ],
      "metadata": {
        "colab": {
          "base_uri": "https://localhost:8080/"
        },
        "id": "lPfh6QT4SPsf",
        "outputId": "e5707bb4-58c8-485d-880b-fc043b49e7be"
      },
      "execution_count": 23,
      "outputs": [
        {
          "output_type": "stream",
          "name": "stderr",
          "text": [
            "[nltk_data] Downloading package stopwords to /root/nltk_data...\n",
            "[nltk_data]   Unzipping corpora/stopwords.zip.\n"
          ]
        }
      ]
    },
    {
      "cell_type": "code",
      "source": [
        "#import libraries\n",
        "from nltk.corpus import stopwords\n",
        "from textblob import TextBlob\n",
        "import matplotlib.pyplot as plt # Import matplotlib for plotting\n",
        "from wordcloud import WordCloud    # Import WordCloud\n",
        "import pandas as pd # Import pandas\n",
        "\n",
        "# Load your data into a pandas DataFrame called 'df'\n",
        "df = pd.read_csv('/content/Reviews.csv')  # Define df here by reading your CSV\n",
        "\n",
        "# Assuming 'df' is your DataFrame with a 'Text' column\n",
        "df['Text'] = df['Text'].apply(lambda x: \"\".join(x.lower() for x in x.split()))\n",
        "df['Text'] = df['Text'].apply(lambda x: \"\".join(x for x in x.split() if x not in stopwords.words('english')))\n",
        "df['Text'] = df['Text'].apply(lambda x: str(TextBlob(x).correct()))\n",
        "# ... (rest of your code) ...\n",
        "\n",
        "# Create wordclouds\n",
        "wordcloud_negative = WordCloud(background_color='white').generate(negative_reviews_str)\n",
        "wordcloud_positive = WordCloud(background_color='white').generate(positive_reviews_str)\n",
        "\n",
        "# Plot\n",
        "fig = plt.figure(figsize=(10, 10))\n",
        "ax1 = fig.add_subplot(211)\n",
        "ax1.imshow(wordcloud_negative, interpolation='bilinear')\n",
        "ax1.axis(\"off\")\n",
        "ax1.set_title('Reviews with Negative Scores', fontsize=20)\n",
        "ax2 = fig.add_subplot(212)\n",
        "ax2.imshow(wordcloud_positive, interpolation='bilinear')\n",
        "ax2.axis(\"off\")\n",
        "ax2.set_title('Reviews with Positive Scores', fontsize=20)\n",
        "plt.show()"
      ],
      "metadata": {
        "id": "L0YS5FjvvMHF"
      },
      "execution_count": null,
      "outputs": []
    },
    {
      "cell_type": "code",
      "source": [
        "import os\n",
        "\n",
        "if os.path.exists('/content/Reviews.csv'):\n",
        "    print(\"File exists at the specified path.\")\n",
        "else:\n",
        "    print(\"File not found. Please check the path and file name.\")\n",
        "\n",
        "if os.path.exists('data'):\n",
        "    print(\"The 'data' directory exists.\")\n",
        "else:\n",
        "    print(\"The 'data' directory does not exist. Please create it.\")\n"
      ],
      "metadata": {
        "colab": {
          "base_uri": "https://localhost:8080/"
        },
        "id": "rPo4Wck-Rzav",
        "outputId": "5fc9c573-3966-4c5e-8a46-fd0dbc94b0ab"
      },
      "execution_count": 18,
      "outputs": [
        {
          "output_type": "stream",
          "name": "stdout",
          "text": [
            "File exists at the specified path.\n",
            "The 'data' directory does not exist. Please create it.\n"
          ]
        }
      ]
    },
    {
      "cell_type": "code",
      "source": [
        "review_sample = pd.read_csv('/content/Reviews.csv')"
      ],
      "metadata": {
        "id": "dldW-F5cRmqk"
      },
      "execution_count": 19,
      "outputs": []
    },
    {
      "cell_type": "code",
      "source": [
        "negative_reviews = review_sample[review_sample['score'].isin([1,2])]\n",
        "postive_reviews = review_sample[review_sample['score'].isin([4,5])]\n",
        "#trasnform to single string\n",
        "negative_review_str = negative_review.summary.str.cat()\n",
        "positive_review_str = positive_review.summaary.str.cat()"
      ],
      "metadata": {
        "id": "5__w-rwpPilI"
      },
      "execution_count": null,
      "outputs": []
    },
    {
      "cell_type": "code",
      "source": [
        "# Create wordclouds\n",
        "wordcloud_negative = WordCloud(background_color='white') \\\n",
        ".generate(negative_reviews_str)\n",
        "wordcloud_positive = WordCloud(background_color='white') \\\n",
        ".generate(positive_reviews_str)\n",
        "# Plot\n",
        "fig = plt.figure(figsize=(10,10))\n",
        "ax1 = fig.add_subplot(211)\n",
        "ax1. imshow(wordcloud_negative, interpolation='bilinear' )\n",
        "ax1.axis(\"off\")\n",
        "ax1.set_title('Reviews with Negative Scores', fontsize=20)\n",
        "ax2 = fig.add_subplot(212)\n",
        "ax2. imshow(wordcloud_positive, interpolation='bilinear' )\n",
        "ax2.axis(\"off\")\n",
        "ax2.set_title('Reviews with Positive Scores', fontsize=20)\n",
        "plt.show()"
      ],
      "metadata": {
        "id": "lk6SO3XPQnnt"
      },
      "execution_count": null,
      "outputs": []
    },
    {
      "cell_type": "code",
      "source": [
        "!pip install vaderSentiment"
      ],
      "metadata": {
        "id": "OpdeBiZ5Wu4X"
      },
      "execution_count": null,
      "outputs": []
    },
    {
      "cell_type": "code",
      "source": [
        "import seaborn as sns\n",
        "from vaderSentiment.vaderSentiment import SentimentIntensityAnalyzer\n",
        "plt.style.use('fivethirtyeight')\n",
        "cp = sns.color_palette()\n",
        "analyzer = SentimentIntensityAnalyzer()\n",
        "emptyline=[]\n",
        "for row in df['Text']:\n",
        "  vs=analuzer.polarity_scores(row)\n",
        "  emptyline.append(vs)\n",
        ""
      ],
      "metadata": {
        "id": "ay5tNXwIXsr1"
      },
      "execution_count": null,
      "outputs": []
    },
    {
      "cell_type": "code",
      "source": [],
      "metadata": {
        "id": "mfChUH66YYdH"
      },
      "execution_count": null,
      "outputs": []
    }
  ]
}