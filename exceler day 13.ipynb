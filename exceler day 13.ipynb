{
  "nbformat": 4,
  "nbformat_minor": 0,
  "metadata": {
    "colab": {
      "provenance": []
    },
    "kernelspec": {
      "name": "python3",
      "display_name": "Python 3"
    },
    "language_info": {
      "name": "python"
    }
  },
  "cells": [
    {
      "cell_type": "code",
      "execution_count": 1,
      "metadata": {
        "colab": {
          "base_uri": "https://localhost:8080/"
        },
        "id": "H-XvLUJC8RNQ",
        "outputId": "7a0a7d8d-5c7f-4b9c-b6b7-c4b5da91d9fe"
      },
      "outputs": [
        {
          "output_type": "stream",
          "name": "stdout",
          "text": [
            "NLP: PROPN\n",
            "is: AUX\n",
            "amazing: ADJ\n",
            "and: CCONJ\n",
            "fun: ADJ\n",
            "to: PART\n",
            "learn: VERB\n",
            ".: PUNCT\n"
          ]
        }
      ],
      "source": [
        "import spacy\n",
        "\n",
        "# Load the SpaCy model (English)\n",
        "nlp = spacy.load(\"en_core_web_sm\")\n",
        "\n",
        "# Define the sentence\n",
        "sentence = \"NLP is amazing and fun to learn.\"\n",
        "\n",
        "# Process the sentence\n",
        "doc = nlp(sentence)\n",
        "\n",
        "# Print the part-of-speech tags for each word in the sentence\n",
        "for token in doc:\n",
        "    print(f'{token.text}: {token.pos_}')\n"
      ]
    }
  ]
}